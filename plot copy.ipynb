{
 "cells": [
  {
   "cell_type": "code",
   "execution_count": 24,
   "metadata": {},
   "outputs": [
    {
     "name": "stderr",
     "output_type": "stream",
     "text": [
      "100%|██████████| 327680/327680 [10:42:10<00:00,  8.50it/s]  \n"
     ]
    }
   ],
   "source": [
    "import spacy\n",
    "import random\n",
    "from tqdm import tqdm\n",
    "import multiprocessing as mp\n",
    "import os\n",
    "import re\n",
    "import numpy as np\n",
    "\n",
    "nlp = spacy.load(\"en_core_web_sm\")\n",
    "\n",
    "def parse_line(line):\n",
    "        tokens = [\n",
    "            token for token in line.split(' ')\n",
    "            if token not in ['', '']\n",
    "        ]\n",
    "        if len(tokens) == 0:\n",
    "            return None\n",
    "        spaces = [True for _ in range(len(tokens)-1)] + [False]\n",
    "        assert len(tokens) == len(spaces), f\"{len(tokens)} != {len(spaces)}\"\n",
    "\n",
    "        doc = spacy.tokens.doc.Doc(\n",
    "            nlp.vocab, words=tokens, spaces=spaces)\n",
    "        for name, proc in nlp.pipeline:\n",
    "            doc = proc(doc)\n",
    "        return [str(sent) for sent in doc.sents]\n",
    "\n",
    "\n",
    "def parse_data_file(data_file, max_sentences, pool,shuffle=False):\n",
    "    data_file = data_file\n",
    "    \n",
    "    multiprocess = 20\n",
    "\n",
    "    parsed = []\n",
    "    with open(data_file, \"r\") as fd:\n",
    "        lines = fd.readlines()\n",
    "    if shuffle:\n",
    "        random.seed(0xdead)\n",
    "        random.shuffle(lines)\n",
    "    \n",
    "    \n",
    "    \n",
    "    # window = 5\n",
    "    # lines2 = []\n",
    "    # for i in range(0,len(lines)-window):\n",
    "    #     line = lines[i:i+window]\n",
    "    #     lines2.append(\"\".join(line))\n",
    "    # lines = lines2\n",
    "    \n",
    "    \n",
    "    \n",
    "    \n",
    "    max_sentences = max_sentences\n",
    "    # max_sentences = max_sentences\n",
    "    \n",
    "    if max_sentences > -1:\n",
    "        line_it = pool.imap_unordered(parse_line, lines)\n",
    "        sentence_pb = tqdm(total=max_sentences)\n",
    "    else:\n",
    "        line_it = pool.imap_unordered(parse_line, lines)\n",
    "\n",
    "    for curr_sentences in line_it:\n",
    "        if curr_sentences == None:\n",
    "            continue\n",
    "        if -1 < max_sentences:\n",
    "            sentence_pb.update(len(curr_sentences))\n",
    "        parsed.extend(curr_sentences)\n",
    "        if -1 < max_sentences <= len(parsed):\n",
    "            parsed = parsed[:max_sentences]\n",
    "            # pool.terminate()\n",
    "            break\n",
    "    return parsed\n",
    "\n",
    "parsed = []\n",
    "def get_files(path):\n",
    "    files = []\n",
    "    for dirpath, dirnames, filenames in os.walk(path):\n",
    "        for filename in filenames:\n",
    "            files.append(os.path.join(dirpath, filename))\n",
    "    return files\n",
    "def get_k_l_from_file(file):\n",
    "    f = file.split('/')\n",
    "    f = f[len(f)-1].split('.')[0]\n",
    "    key,layer = f.split('_')\n",
    "    return int(key),int(layer)\n",
    "\n",
    "pool = mp.Pool(20)\n",
    "files1 = get_files('/u/amo-d1/grad/mha361/work/Code-LMs/Data/Code/Python/')\n",
    "files2 = get_files('/u/amo-d1/grad/mha361/work/My_ff/java')\n",
    "\n",
    "files = files2\n",
    "# files.extend(files2[:250])\n",
    "\n",
    "random.shuffle(files)\n",
    "h_map = np.zeros(shape=(32,10240),dtype=bool)\n",
    "for file in tqdm(files):\n",
    "    p = parse_data_file(file,-1,pool)\n",
    "    for pi in p:\n",
    "        pattern = r'(onCreate)'\n",
    "\n",
    "        matches = re.findall(pattern, pi, flags=re.IGNORECASE)\n",
    "        # print(p)\n",
    "        if matches != []:\n",
    "            key,layer = get_k_l_from_file(file)\n",
    "            h_map[layer][key] = True\n",
    "            # print(layer,key,pi)\n",
    "    parsed.extend(p)\n",
    "pool.terminate()\n",
    "\n",
    "np.save('/u/amo-d1/grad/mha361/work/My_ff/h_map', h_map)"
   ]
  },
  {
   "cell_type": "code",
   "execution_count": 27,
   "metadata": {},
   "outputs": [
    {
     "data": {
      "image/png": "[encoded data removed]",
      "text/plain": [
       "<Figure size 640x480 with 1 Axes>"
      ]
     },
     "metadata": {},
     "output_type": "display_data"
    }
   ],
   "source": [
    "import matplotlib.pyplot as plt\n",
    "import numpy as np\n",
    "\n",
    "cmap = plt.cm.binary\n",
    "cmap.set_bad('white')\n",
    "\n",
    "plt.imshow(h_map, cmap=cmap, interpolation='nearest', aspect='auto')\n",
    "plt.title(\"Boolean Array\")\n",
    "plt.show()"
   ]
  },
  {
   "cell_type": "code",
   "execution_count": 28,
   "metadata": {},
   "outputs": [
    {
     "data": {
      "text/plain": [
       "(32, 10240)"
      ]
     },
     "execution_count": 28,
     "metadata": {},
     "output_type": "execute_result"
    }
   ],
   "source": [
    "h_map.shape"
   ]
  },
  {
   "cell_type": "code",
   "execution_count": 30,
   "metadata": {},
   "outputs": [
    {
     "name": "stdout",
     "output_type": "stream",
     "text": [
      "0.01201171875\n",
      "0.01435546875\n",
      "0.0146484375\n",
      "0.0126953125\n",
      "0.01328125\n",
      "0.01552734375\n",
      "0.0150390625\n",
      "0.016796875\n",
      "0.01591796875\n",
      "0.0162109375\n",
      "0.011328125\n",
      "0.01318359375\n",
      "0.0140625\n",
      "0.01220703125\n",
      "0.01591796875\n",
      "0.01650390625\n",
      "0.01748046875\n",
      "0.0173828125\n",
      "0.02021484375\n",
      "0.01689453125\n",
      "0.01865234375\n",
      "0.02001953125\n",
      "0.0236328125\n",
      "0.01767578125\n",
      "0.02158203125\n",
      "0.02197265625\n",
      "0.0197265625\n",
      "0.02080078125\n",
      "0.02021484375\n",
      "0.017578125\n",
      "0.0171875\n",
      "0.015625\n"
     ]
    }
   ],
   "source": [
    "for l in h_map:\n",
    "    print(np.count_nonzero(l)/10240)"
   ]
  },
  {
   "cell_type": "code",
   "execution_count": 20,
   "metadata": {},
   "outputs": [
    {
     "data": {
      "image/png": "[encoded data removed]",
      "text/plain": [
       "<Figure size 640x480 with 1 Axes>"
      ]
     },
     "metadata": {},
     "output_type": "display_data"
    }
   ],
   "source": [
    "bool_array = h_map\n",
    "\n",
    "# Get the indices of True values\n",
    "rows, cols = np.where(bool_array)\n",
    "\n",
    "# Plot the Boolean array with larger dots for True values\n",
    "plt.scatter(cols, rows, c='black', s=.01)\n",
    "plt.title(\"Boolean Array\")\n",
    "plt.grid(True, color='white')\n",
    "plt.show()\n"
   ]
  },
  {
   "cell_type": "code",
   "execution_count": 21,
   "metadata": {},
   "outputs": [],
   "source": [
    "np.save('/u/amo-d1/grad/mha361/work/My_ff/h_map', h_map)"
   ]
  },
  {
   "cell_type": "code",
   "execution_count": 26,
   "metadata": {},
   "outputs": [],
   "source": [
    "h_map2 = np.load(\"/u/amo-d1/grad/mha361/work/My_ff/h_map.npy\")"
   ]
  },
  {
   "cell_type": "code",
   "execution_count": null,
   "metadata": {},
   "outputs": [],
   "source": []
  }
 ],
 "metadata": {
  "kernelspec": {
   "display_name": "memit",
   "language": "python",
   "name": "python3"
  },
  "language_info": {
   "codemirror_mode": {
    "name": "ipython",
    "version": 3
   },
   "file_extension": ".py",
   "mimetype": "text/x-python",
   "name": "python",
   "nbconvert_exporter": "python",
   "pygments_lexer": "ipython3",
   "version": "3.9.7"
  },
  "orig_nbformat": 4,
  "vscode": {
   "interpreter": {
    "hash": "5d1229a95fcbafab6ef03ba2e74295bf4b93531e79c6294ccaf0fb6e21a20ecd"
   }
  }
 },
 "nbformat": 4,
 "nbformat_minor": 2
}
