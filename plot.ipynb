{
 "cells": [
  {
   "cell_type": "code",
   "execution_count": 6,
   "metadata": {},
   "outputs": [
    {
     "name": "stderr",
     "output_type": "stream",
     "text": [
      "  8%|▊         | 24808/327680 [1:18:50<16:02:36,  5.24it/s]\n"
     ]
    },
    {
     "ename": "KeyboardInterrupt",
     "evalue": "",
     "output_type": "error",
     "traceback": [
      "\u001b[0;31m---------------------------------------------------------------------------\u001b[0m",
      "\u001b[0;31mIndexError\u001b[0m                                Traceback (most recent call last)",
      "File \u001b[0;32m~/anaconda3/envs/memit/lib/python3.9/multiprocessing/pool.py:853\u001b[0m, in \u001b[0;36mIMapIterator.next\u001b[0;34m(self, timeout)\u001b[0m\n\u001b[1;32m    852\u001b[0m \u001b[39mtry\u001b[39;00m:\n\u001b[0;32m--> 853\u001b[0m     item \u001b[39m=\u001b[39m \u001b[39mself\u001b[39;49m\u001b[39m.\u001b[39;49m_items\u001b[39m.\u001b[39;49mpopleft()\n\u001b[1;32m    854\u001b[0m \u001b[39mexcept\u001b[39;00m \u001b[39mIndexError\u001b[39;00m:\n",
      "\u001b[0;31mIndexError\u001b[0m: pop from an empty deque",
      "\nDuring handling of the above exception, another exception occurred:\n",
      "\u001b[0;31mKeyboardInterrupt\u001b[0m                         Traceback (most recent call last)",
      "Cell \u001b[0;32mIn[6], line 96\u001b[0m\n\u001b[1;32m     94\u001b[0m h_map \u001b[39m=\u001b[39m np\u001b[39m.\u001b[39mzeros(shape\u001b[39m=\u001b[39m(\u001b[39m32\u001b[39m,\u001b[39m10240\u001b[39m),dtype\u001b[39m=\u001b[39m\u001b[39mbool\u001b[39m)\n\u001b[1;32m     95\u001b[0m \u001b[39mfor\u001b[39;00m file \u001b[39min\u001b[39;00m tqdm(files):\n\u001b[0;32m---> 96\u001b[0m     p \u001b[39m=\u001b[39m parse_data_file(file,\u001b[39m-\u001b[39;49m\u001b[39m1\u001b[39;49m,pool)\n\u001b[1;32m     97\u001b[0m     \u001b[39mfor\u001b[39;00m pi \u001b[39min\u001b[39;00m p:\n\u001b[1;32m     98\u001b[0m         pattern \u001b[39m=\u001b[39m \u001b[39mr\u001b[39m\u001b[39m'\u001b[39m\u001b[39mpublic\u001b[39m\u001b[39m\\\u001b[39m\u001b[39ms+static\u001b[39m\u001b[39m\\\u001b[39m\u001b[39ms+void\u001b[39m\u001b[39m\\\u001b[39m\u001b[39ms+main\u001b[39m\u001b[39m\\\u001b[39m\u001b[39ms*\u001b[39m\u001b[39m\\\u001b[39m\u001b[39m(\u001b[39m\u001b[39m'\u001b[39m\n",
      "Cell \u001b[0;32mIn[6], line 61\u001b[0m, in \u001b[0;36mparse_data_file\u001b[0;34m(data_file, max_sentences, pool, shuffle)\u001b[0m\n\u001b[1;32m     58\u001b[0m \u001b[39melse\u001b[39;00m:\n\u001b[1;32m     59\u001b[0m     line_it \u001b[39m=\u001b[39m pool\u001b[39m.\u001b[39mimap_unordered(parse_line, lines)\n\u001b[0;32m---> 61\u001b[0m \u001b[39mfor\u001b[39;00m curr_sentences \u001b[39min\u001b[39;00m line_it:\n\u001b[1;32m     62\u001b[0m     \u001b[39mif\u001b[39;00m curr_sentences \u001b[39m==\u001b[39m \u001b[39mNone\u001b[39;00m:\n\u001b[1;32m     63\u001b[0m         \u001b[39mcontinue\u001b[39;00m\n",
      "File \u001b[0;32m~/anaconda3/envs/memit/lib/python3.9/multiprocessing/pool.py:858\u001b[0m, in \u001b[0;36mIMapIterator.next\u001b[0;34m(self, timeout)\u001b[0m\n\u001b[1;32m    856\u001b[0m     \u001b[39mself\u001b[39m\u001b[39m.\u001b[39m_pool \u001b[39m=\u001b[39m \u001b[39mNone\u001b[39;00m\n\u001b[1;32m    857\u001b[0m     \u001b[39mraise\u001b[39;00m \u001b[39mStopIteration\u001b[39;00m \u001b[39mfrom\u001b[39;00m \u001b[39mNone\u001b[39m\n\u001b[0;32m--> 858\u001b[0m \u001b[39mself\u001b[39;49m\u001b[39m.\u001b[39;49m_cond\u001b[39m.\u001b[39;49mwait(timeout)\n\u001b[1;32m    859\u001b[0m \u001b[39mtry\u001b[39;00m:\n\u001b[1;32m    860\u001b[0m     item \u001b[39m=\u001b[39m \u001b[39mself\u001b[39m\u001b[39m.\u001b[39m_items\u001b[39m.\u001b[39mpopleft()\n",
      "File \u001b[0;32m~/anaconda3/envs/memit/lib/python3.9/threading.py:312\u001b[0m, in \u001b[0;36mCondition.wait\u001b[0;34m(self, timeout)\u001b[0m\n\u001b[1;32m    310\u001b[0m \u001b[39mtry\u001b[39;00m:    \u001b[39m# restore state no matter what (e.g., KeyboardInterrupt)\u001b[39;00m\n\u001b[1;32m    311\u001b[0m     \u001b[39mif\u001b[39;00m timeout \u001b[39mis\u001b[39;00m \u001b[39mNone\u001b[39;00m:\n\u001b[0;32m--> 312\u001b[0m         waiter\u001b[39m.\u001b[39;49macquire()\n\u001b[1;32m    313\u001b[0m         gotit \u001b[39m=\u001b[39m \u001b[39mTrue\u001b[39;00m\n\u001b[1;32m    314\u001b[0m     \u001b[39melse\u001b[39;00m:\n",
      "\u001b[0;31mKeyboardInterrupt\u001b[0m: "
     ]
    }
   ],
   "source": [
    "import spacy\n",
    "import random\n",
    "from tqdm import tqdm\n",
    "import multiprocessing as mp\n",
    "import os\n",
    "import re\n",
    "import numpy as np\n",
    "\n",
    "nlp = spacy.load(\"en_core_web_sm\")\n",
    "\n",
    "def parse_line(line):\n",
    "        tokens = [\n",
    "            token for token in line.split(' ')\n",
    "            if token not in ['', '']\n",
    "        ]\n",
    "        if len(tokens) == 0:\n",
    "            return None\n",
    "        spaces = [True for _ in range(len(tokens)-1)] + [False]\n",
    "        assert len(tokens) == len(spaces), f\"{len(tokens)} != {len(spaces)}\"\n",
    "\n",
    "        doc = spacy.tokens.doc.Doc(\n",
    "            nlp.vocab, words=tokens, spaces=spaces)\n",
    "        for name, proc in nlp.pipeline:\n",
    "            doc = proc(doc)\n",
    "        return [str(sent) for sent in doc.sents]\n",
    "\n",
    "\n",
    "def parse_data_file(data_file, max_sentences, pool,shuffle=False):\n",
    "    data_file = data_file\n",
    "    \n",
    "    multiprocess = 20\n",
    "\n",
    "    parsed = []\n",
    "    with open(data_file, \"r\") as fd:\n",
    "        lines = fd.readlines()\n",
    "    if shuffle:\n",
    "        random.seed(0xdead)\n",
    "        random.shuffle(lines)\n",
    "    \n",
    "    \n",
    "    \n",
    "    # window = 5\n",
    "    # lines2 = []\n",
    "    # for i in range(0,len(lines)-window):\n",
    "    #     line = lines[i:i+window]\n",
    "    #     lines2.append(\"\".join(line))\n",
    "    # lines = lines2\n",
    "    \n",
    "    \n",
    "    \n",
    "    \n",
    "    max_sentences = max_sentences\n",
    "    # max_sentences = max_sentences\n",
    "    \n",
    "    if max_sentences > -1:\n",
    "        line_it = pool.imap_unordered(parse_line, lines)\n",
    "        sentence_pb = tqdm(total=max_sentences)\n",
    "    else:\n",
    "        line_it = pool.imap_unordered(parse_line, lines)\n",
    "\n",
    "    for curr_sentences in line_it:\n",
    "        if curr_sentences == None:\n",
    "            continue\n",
    "        if -1 < max_sentences:\n",
    "            sentence_pb.update(len(curr_sentences))\n",
    "        parsed.extend(curr_sentences)\n",
    "        if -1 < max_sentences <= len(parsed):\n",
    "            parsed = parsed[:max_sentences]\n",
    "            # pool.terminate()\n",
    "            break\n",
    "    return parsed\n",
    "\n",
    "parsed = []\n",
    "def get_files(path):\n",
    "    files = []\n",
    "    for dirpath, dirnames, filenames in os.walk(path):\n",
    "        for filename in filenames:\n",
    "            files.append(os.path.join(dirpath, filename))\n",
    "    return files\n",
    "def get_k_l_from_file(file):\n",
    "    f = file.split('/')\n",
    "    f = f[len(f)-1].split('.')[0]\n",
    "    key,layer = f.split('_')\n",
    "    return int(key),int(layer)\n",
    "\n",
    "pool = mp.Pool(20)\n",
    "files1 = get_files('/u/amo-d1/grad/mha361/work/Code-LMs/Data/Code/Python/')\n",
    "files2 = get_files('/u/amo-d1/grad/mha361/work/My_ff/java')\n",
    "\n",
    "files = files2\n",
    "# files.extend(files2[:250])\n",
    "\n",
    "random.shuffle(files)\n",
    "h_map = np.zeros(shape=(32,10240),dtype=bool)\n",
    "for file in tqdm(files):\n",
    "    p = parse_data_file(file,-1,pool)\n",
    "    for pi in p:\n",
    "        pattern_main = r'public\\s+static\\s+void\\s+main\\s*\\('\n",
    "        \n",
    "        pattern_event_registration = r'\\.(?:add|set)\\w+Listener\\([^)]*\\)\\s*'\n",
    "        \n",
    "        pattern = r'actionPerformed'\n",
    "\n",
    "        matches = re.findall(pattern, pi, flags=re.IGNORECASE)\n",
    "        # print(p)\n",
    "        if matches != []:\n",
    "            key,layer = get_k_l_from_file(file)\n",
    "            h_map[layer][key] = True\n",
    "            # print(layer,key,pi)\n",
    "    parsed.extend(p)\n",
    "pool.terminate()\n",
    "\n",
    "np.save('/u/amo-d1/grad/mha361/work/My_ff/h_map', h_map)"
   ]
  },
  {
   "cell_type": "code",
   "execution_count": 7,
   "metadata": {},
   "outputs": [
    {
     "data": {
      "image/png": "[encoded data removed]",
      "text/plain": [
       "<Figure size 640x480 with 1 Axes>"
      ]
     },
     "metadata": {},
     "output_type": "display_data"
    }
   ],
   "source": [
    "import matplotlib.pyplot as plt\n",
    "import numpy as np\n",
    "\n",
    "cmap = plt.cm.binary\n",
    "cmap.set_bad('white')\n",
    "\n",
    "plt.imshow(h_map, cmap=cmap, interpolation='nearest', aspect='auto')\n",
    "plt.title(\"Boolean Array\")\n",
    "plt.show()"
   ]
  },
  {
   "cell_type": "code",
   "execution_count": 28,
   "metadata": {},
   "outputs": [
    {
     "data": {
      "text/plain": [
       "(32, 10240)"
      ]
     },
     "execution_count": 28,
     "metadata": {},
     "output_type": "execute_result"
    }
   ],
   "source": [
    "h_map.shape"
   ]
  },
  {
   "cell_type": "code",
   "execution_count": 3,
   "metadata": {},
   "outputs": [
    {
     "name": "stdout",
     "output_type": "stream",
     "text": [
      "0.0\n",
      "0.0\n",
      "0.0\n",
      "0.0\n",
      "0.0\n",
      "0.0\n",
      "0.0\n",
      "0.0\n",
      "0.0\n",
      "0.0\n",
      "0.0\n",
      "0.0\n",
      "0.0\n",
      "0.0\n",
      "0.0\n",
      "0.0\n",
      "0.0\n",
      "0.0\n",
      "0.0\n",
      "0.0\n",
      "0.0\n",
      "0.0\n",
      "0.0\n",
      "0.0\n",
      "0.0\n",
      "0.0\n",
      "0.0\n",
      "0.0\n",
      "0.0\n",
      "0.0\n",
      "0.0\n",
      "0.0\n"
     ]
    }
   ],
   "source": [
    "for l in h_map:\n",
    "    print(np.count_nonzero(l)/10240)"
   ]
  },
  {
   "cell_type": "code",
   "execution_count": 20,
   "metadata": {},
   "outputs": [
    {
     "data": {
      "image/png": "[encoded data removed]",
      "text/plain": [
       "<Figure size 640x480 with 1 Axes>"
      ]
     },
     "metadata": {},
     "output_type": "display_data"
    }
   ],
   "source": [
    "bool_array = h_map\n",
    "\n",
    "# Get the indices of True values\n",
    "rows, cols = np.where(bool_array)\n",
    "\n",
    "# Plot the Boolean array with larger dots for True values\n",
    "plt.scatter(cols, rows, c='black', s=.01)\n",
    "plt.title(\"Boolean Array\")\n",
    "plt.grid(True, color='white')\n",
    "plt.show()\n"
   ]
  },
  {
   "cell_type": "code",
   "execution_count": 21,
   "metadata": {},
   "outputs": [],
   "source": [
    "np.save('/u/amo-d1/grad/mha361/work/My_ff/h_map', h_map)"
   ]
  },
  {
   "cell_type": "code",
   "execution_count": 26,
   "metadata": {},
   "outputs": [],
   "source": [
    "h_map2 = np.load(\"/u/amo-d1/grad/mha361/work/My_ff/h_map.npy\")"
   ]
  },
  {
   "cell_type": "code",
   "execution_count": null,
   "metadata": {},
   "outputs": [],
   "source": []
  }
 ],
 "metadata": {
  "kernelspec": {
   "display_name": "memit",
   "language": "python",
   "name": "python3"
  },
  "language_info": {
   "codemirror_mode": {
    "name": "ipython",
    "version": 3
   },
   "file_extension": ".py",
   "mimetype": "text/x-python",
   "name": "python",
   "nbconvert_exporter": "python",
   "pygments_lexer": "ipython3",
   "version": "3.9.7"
  },
  "orig_nbformat": 4,
  "vscode": {
   "interpreter": {
    "hash": "5d1229a95fcbafab6ef03ba2e74295bf4b93531e79c6294ccaf0fb6e21a20ecd"
   }
  }
 },
 "nbformat": 4,
 "nbformat_minor": 2
}
